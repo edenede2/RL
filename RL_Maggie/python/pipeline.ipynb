{
 "cells": [
  {
   "cell_type": "markdown",
   "id": "2cbea3f7",
   "metadata": {},
   "source": [
    "# RL Pipeline Notebook\n",
    "This notebook runs the analysis pipeline using the translated Python modules."
   ]
  },
  {
   "cell_type": "code",
   "execution_count": 2,
   "id": "bb1690fe",
   "metadata": {},
   "outputs": [
    {
     "name": "stdout",
     "output_type": "stream",
     "text": [
      "LOCAL_DATA_DIR: /Users/edeneldar/Documents/RL/RL_Maggie/Data\n",
      "STRESS_DATA_DIR: /Users/edeneldar/Documents/RL/RL_Maggie/data_healthy_Noa\n"
     ]
    }
   ],
   "source": [
    "from importlib import import_module\n",
    "setup = import_module('00_setup')\n",
    "print('LOCAL_DATA_DIR:', setup.LOCAL_DATA_DIR)\n",
    "print('STRESS_DATA_DIR:', setup.STRESS_DATA_DIR)\n"
   ]
  },
  {
   "cell_type": "code",
   "execution_count": null,
   "id": "a361f574",
   "metadata": {},
   "outputs": [],
   "source": [
    "# Optional: copy raw files from shared drive if available\n",
    "# copy_mod = import_module('RL_Maggie.python.01_copy_raw_files')\n",
    "# copy_mod.copy_files_from_rl(setup.RAW_SHARED_DIR, setup.LOCAL_DATA_DIR)\n"
   ]
  },
  {
   "cell_type": "markdown",
   "id": "68752c34",
   "metadata": {},
   "source": [
    "## Trial-Level Data"
   ]
  },
  {
   "cell_type": "code",
   "execution_count": 3,
   "id": "6a95ddc6",
   "metadata": {},
   "outputs": [
    {
     "ename": "ModuleNotFoundError",
     "evalue": "No module named 'RL_Maggie'",
     "output_type": "error",
     "traceback": [
      "\u001b[0;31m---------------------------------------------------------------------------\u001b[0m",
      "\u001b[0;31mModuleNotFoundError\u001b[0m                       Traceback (most recent call last)",
      "Cell \u001b[0;32mIn[3], line 2\u001b[0m\n\u001b[1;32m      1\u001b[0m fibro_mod \u001b[38;5;241m=\u001b[39m import_module(\u001b[38;5;124m'\u001b[39m\u001b[38;5;124m02_trial_etl_fibro\u001b[39m\u001b[38;5;124m'\u001b[39m)\n\u001b[0;32m----> 2\u001b[0m stress_mod \u001b[38;5;241m=\u001b[39m \u001b[43mimport_module\u001b[49m\u001b[43m(\u001b[49m\u001b[38;5;124;43m'\u001b[39;49m\u001b[38;5;124;43m03_trial_etl_stress\u001b[39;49m\u001b[38;5;124;43m'\u001b[39;49m\u001b[43m)\u001b[49m\n\u001b[1;32m      3\u001b[0m res_fibro \u001b[38;5;241m=\u001b[39m fibro_mod\u001b[38;5;241m.\u001b[39mget_trial_data_healthy_fibro()\n\u001b[1;32m      4\u001b[0m res_stress \u001b[38;5;241m=\u001b[39m stress_mod\u001b[38;5;241m.\u001b[39mget_trial_data_healthy_stress()\n",
      "File \u001b[0;32m/opt/anaconda3/envs/new_base/lib/python3.11/importlib/__init__.py:126\u001b[0m, in \u001b[0;36mimport_module\u001b[0;34m(name, package)\u001b[0m\n\u001b[1;32m    124\u001b[0m             \u001b[38;5;28;01mbreak\u001b[39;00m\n\u001b[1;32m    125\u001b[0m         level \u001b[38;5;241m+\u001b[39m\u001b[38;5;241m=\u001b[39m \u001b[38;5;241m1\u001b[39m\n\u001b[0;32m--> 126\u001b[0m \u001b[38;5;28;01mreturn\u001b[39;00m \u001b[43m_bootstrap\u001b[49m\u001b[38;5;241;43m.\u001b[39;49m\u001b[43m_gcd_import\u001b[49m\u001b[43m(\u001b[49m\u001b[43mname\u001b[49m\u001b[43m[\u001b[49m\u001b[43mlevel\u001b[49m\u001b[43m:\u001b[49m\u001b[43m]\u001b[49m\u001b[43m,\u001b[49m\u001b[43m \u001b[49m\u001b[43mpackage\u001b[49m\u001b[43m,\u001b[49m\u001b[43m \u001b[49m\u001b[43mlevel\u001b[49m\u001b[43m)\u001b[49m\n",
      "File \u001b[0;32m<frozen importlib._bootstrap>:1204\u001b[0m, in \u001b[0;36m_gcd_import\u001b[0;34m(name, package, level)\u001b[0m\n",
      "File \u001b[0;32m<frozen importlib._bootstrap>:1176\u001b[0m, in \u001b[0;36m_find_and_load\u001b[0;34m(name, import_)\u001b[0m\n",
      "File \u001b[0;32m<frozen importlib._bootstrap>:1147\u001b[0m, in \u001b[0;36m_find_and_load_unlocked\u001b[0;34m(name, import_)\u001b[0m\n",
      "File \u001b[0;32m<frozen importlib._bootstrap>:690\u001b[0m, in \u001b[0;36m_load_unlocked\u001b[0;34m(spec)\u001b[0m\n",
      "File \u001b[0;32m<frozen importlib._bootstrap_external>:940\u001b[0m, in \u001b[0;36mexec_module\u001b[0;34m(self, module)\u001b[0m\n",
      "File \u001b[0;32m<frozen importlib._bootstrap>:241\u001b[0m, in \u001b[0;36m_call_with_frames_removed\u001b[0;34m(f, *args, **kwds)\u001b[0m\n",
      "File \u001b[0;32m~/Documents/RL/RL_Maggie/python/03_trial_etl_stress.py:6\u001b[0m\n\u001b[1;32m      3\u001b[0m \u001b[38;5;28;01mfrom\u001b[39;00m \u001b[38;5;21;01mtyping\u001b[39;00m \u001b[38;5;28;01mimport\u001b[39;00m List, Dict\n\u001b[1;32m      4\u001b[0m \u001b[38;5;28;01mfrom\u001b[39;00m \u001b[38;5;21;01mimportlib\u001b[39;00m \u001b[38;5;28;01mimport\u001b[39;00m import_module\n\u001b[0;32m----> 6\u001b[0m setup \u001b[38;5;241m=\u001b[39m \u001b[43mimport_module\u001b[49m\u001b[43m(\u001b[49m\u001b[38;5;124;43m'\u001b[39;49m\u001b[38;5;124;43mRL_Maggie.python.00_setup\u001b[39;49m\u001b[38;5;124;43m'\u001b[39;49m\u001b[43m)\u001b[49m\n\u001b[1;32m      7\u001b[0m STRESS_DATA_DIR \u001b[38;5;241m=\u001b[39m setup\u001b[38;5;241m.\u001b[39mSTRESS_DATA_DIR\n\u001b[1;32m     10\u001b[0m \u001b[38;5;28;01mdef\u001b[39;00m \u001b[38;5;21mget_trial_data_healthy_stress\u001b[39m(data_dir: Path \u001b[38;5;241m=\u001b[39m STRESS_DATA_DIR) \u001b[38;5;241m-\u001b[39m\u001b[38;5;241m>\u001b[39m Dict[\u001b[38;5;28mstr\u001b[39m, pd\u001b[38;5;241m.\u001b[39mDataFrame]:\n",
      "File \u001b[0;32m/opt/anaconda3/envs/new_base/lib/python3.11/importlib/__init__.py:126\u001b[0m, in \u001b[0;36mimport_module\u001b[0;34m(name, package)\u001b[0m\n\u001b[1;32m    124\u001b[0m             \u001b[38;5;28;01mbreak\u001b[39;00m\n\u001b[1;32m    125\u001b[0m         level \u001b[38;5;241m+\u001b[39m\u001b[38;5;241m=\u001b[39m \u001b[38;5;241m1\u001b[39m\n\u001b[0;32m--> 126\u001b[0m \u001b[38;5;28;01mreturn\u001b[39;00m \u001b[43m_bootstrap\u001b[49m\u001b[38;5;241;43m.\u001b[39;49m\u001b[43m_gcd_import\u001b[49m\u001b[43m(\u001b[49m\u001b[43mname\u001b[49m\u001b[43m[\u001b[49m\u001b[43mlevel\u001b[49m\u001b[43m:\u001b[49m\u001b[43m]\u001b[49m\u001b[43m,\u001b[49m\u001b[43m \u001b[49m\u001b[43mpackage\u001b[49m\u001b[43m,\u001b[49m\u001b[43m \u001b[49m\u001b[43mlevel\u001b[49m\u001b[43m)\u001b[49m\n",
      "File \u001b[0;32m<frozen importlib._bootstrap>:1204\u001b[0m, in \u001b[0;36m_gcd_import\u001b[0;34m(name, package, level)\u001b[0m\n",
      "File \u001b[0;32m<frozen importlib._bootstrap>:1176\u001b[0m, in \u001b[0;36m_find_and_load\u001b[0;34m(name, import_)\u001b[0m\n",
      "File \u001b[0;32m<frozen importlib._bootstrap>:1126\u001b[0m, in \u001b[0;36m_find_and_load_unlocked\u001b[0;34m(name, import_)\u001b[0m\n",
      "File \u001b[0;32m<frozen importlib._bootstrap>:241\u001b[0m, in \u001b[0;36m_call_with_frames_removed\u001b[0;34m(f, *args, **kwds)\u001b[0m\n",
      "File \u001b[0;32m<frozen importlib._bootstrap>:1204\u001b[0m, in \u001b[0;36m_gcd_import\u001b[0;34m(name, package, level)\u001b[0m\n",
      "File \u001b[0;32m<frozen importlib._bootstrap>:1176\u001b[0m, in \u001b[0;36m_find_and_load\u001b[0;34m(name, import_)\u001b[0m\n",
      "File \u001b[0;32m<frozen importlib._bootstrap>:1126\u001b[0m, in \u001b[0;36m_find_and_load_unlocked\u001b[0;34m(name, import_)\u001b[0m\n",
      "File \u001b[0;32m<frozen importlib._bootstrap>:241\u001b[0m, in \u001b[0;36m_call_with_frames_removed\u001b[0;34m(f, *args, **kwds)\u001b[0m\n",
      "File \u001b[0;32m<frozen importlib._bootstrap>:1204\u001b[0m, in \u001b[0;36m_gcd_import\u001b[0;34m(name, package, level)\u001b[0m\n",
      "File \u001b[0;32m<frozen importlib._bootstrap>:1176\u001b[0m, in \u001b[0;36m_find_and_load\u001b[0;34m(name, import_)\u001b[0m\n",
      "File \u001b[0;32m<frozen importlib._bootstrap>:1140\u001b[0m, in \u001b[0;36m_find_and_load_unlocked\u001b[0;34m(name, import_)\u001b[0m\n",
      "\u001b[0;31mModuleNotFoundError\u001b[0m: No module named 'RL_Maggie'"
     ]
    }
   ],
   "source": [
    "fibro_mod = import_module('02_trial_etl_fibro')\n",
    "stress_mod = import_module('03_trial_etl_stress')\n",
    "res_fibro = fibro_mod.get_trial_data_healthy_fibro()\n",
    "res_stress = stress_mod.get_trial_data_healthy_stress()\n"
   ]
  },
  {
   "cell_type": "code",
   "execution_count": null,
   "id": "82965bd3",
   "metadata": {},
   "outputs": [],
   "source": [
    "merge_mod = import_module('RL_Maggie.python.04_trial_merge_clean')\n",
    "full_trial_data = merge_mod.full_trial_data\n",
    "full_trial_data_learners = merge_mod.full_trial_data_learners\n",
    "all_non_learners = merge_mod.all_non_learners\n",
    "print('Trial rows:', len(full_trial_data))\n"
   ]
  },
  {
   "cell_type": "code",
   "execution_count": null,
   "id": "42c174f6",
   "metadata": {},
   "outputs": [],
   "source": [
    "analysis_mod = import_module('RL_Maggie.python.05_trial_analysis')\n"
   ]
  },
  {
   "cell_type": "markdown",
   "id": "46e27b15",
   "metadata": {},
   "source": [
    "## Estimation-Level Data"
   ]
  },
  {
   "cell_type": "code",
   "execution_count": null,
   "id": "12b2cbed",
   "metadata": {},
   "outputs": [],
   "source": [
    "est_etl = import_module('RL_Maggie.python.06_estimation_etl')\n",
    "full_estimation_data = est_etl.full_estimation_data\n",
    "full_estimation_data_clean = est_etl.full_estimation_data_clean\n",
    "print('Estimation rows:', len(full_estimation_data))\n"
   ]
  },
  {
   "cell_type": "code",
   "execution_count": null,
   "id": "41763709",
   "metadata": {},
   "outputs": [],
   "source": [
    "import_module('RL_Maggie.python.07_estimation_analysis')\n"
   ]
  },
  {
   "cell_type": "markdown",
   "id": "2aee7cf5",
   "metadata": {},
   "source": [
    "## Questionnaire Analysis"
   ]
  },
  {
   "cell_type": "code",
   "execution_count": null,
   "id": "514bd262",
   "metadata": {},
   "outputs": [],
   "source": [
    "try:\n",
    "    import_module('RL_Maggie.python.08_questionnaire_analysis')\n",
    "except FileNotFoundError as e:\n",
    "    print('Questionnaire file missing:', e)\n"
   ]
  }
 ],
 "metadata": {
  "kernelspec": {
   "display_name": "new_base",
   "language": "python",
   "name": "python3"
  },
  "language_info": {
   "codemirror_mode": {
    "name": "ipython",
    "version": 3
   },
   "file_extension": ".py",
   "mimetype": "text/x-python",
   "name": "python",
   "nbconvert_exporter": "python",
   "pygments_lexer": "ipython3",
   "version": "3.11.9"
  }
 },
 "nbformat": 4,
 "nbformat_minor": 5
}
