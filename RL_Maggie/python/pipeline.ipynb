{
 "cells": [
  {
   "cell_type": "markdown",
   "id": "2cbea3f7",
   "metadata": {},
   "source": [
    "# RL Pipeline Notebook\n",
    "This notebook runs the analysis pipeline using the translated Python modules."
   ]
  },
  {
   "cell_type": "code",
   "execution_count": null,
   "id": "bb1690fe",
   "metadata": {},
   "outputs": [],
   "source": [
    "from importlib import import_module\n",
    "setup = import_module('RL_Maggie.python.00_setup')\n",
    "print('LOCAL_DATA_DIR:', setup.LOCAL_DATA_DIR)\n",
    "print('STRESS_DATA_DIR:', setup.STRESS_DATA_DIR)\n"
   ]
  },
  {
   "cell_type": "code",
   "execution_count": null,
   "id": "a361f574",
   "metadata": {},
   "outputs": [],
   "source": [
    "# Optional: copy raw files from shared drive if available\n",
    "# copy_mod = import_module('RL_Maggie.python.01_copy_raw_files')\n",
    "# copy_mod.copy_files_from_rl(setup.RAW_SHARED_DIR, setup.LOCAL_DATA_DIR)\n"
   ]
  },
  {
   "cell_type": "markdown",
   "id": "68752c34",
   "metadata": {},
   "source": [
    "## Trial-Level Data"
   ]
  },
  {
   "cell_type": "code",
   "execution_count": null,
   "id": "6a95ddc6",
   "metadata": {},
   "outputs": [],
   "source": [
    "fibro_mod = import_module('RL_Maggie.python.02_trial_etl_fibro')\n",
    "stress_mod = import_module('RL_Maggie.python.03_trial_etl_stress')\n",
    "res_fibro = fibro_mod.get_trial_data_healthy_fibro()\n",
    "res_stress = stress_mod.get_trial_data_healthy_stress()\n"
   ]
  },
  {
   "cell_type": "code",
   "execution_count": null,
   "id": "82965bd3",
   "metadata": {},
   "outputs": [],
   "source": [
    "merge_mod = import_module('RL_Maggie.python.04_trial_merge_clean')\n",
    "full_trial_data = merge_mod.full_trial_data\n",
    "full_trial_data_learners = merge_mod.full_trial_data_learners\n",
    "all_non_learners = merge_mod.all_non_learners\n",
    "print('Trial rows:', len(full_trial_data))\n"
   ]
  },
  {
   "cell_type": "code",
   "execution_count": null,
   "id": "42c174f6",
   "metadata": {},
   "outputs": [],
   "source": [
    "analysis_mod = import_module('RL_Maggie.python.05_trial_analysis')\n"
   ]
  },
  {
   "cell_type": "markdown",
   "id": "46e27b15",
   "metadata": {},
   "source": [
    "## Estimation-Level Data"
   ]
  },
  {
   "cell_type": "code",
   "execution_count": null,
   "id": "12b2cbed",
   "metadata": {},
   "outputs": [],
   "source": [
    "est_etl = import_module('RL_Maggie.python.06_estimation_etl')\n",
    "full_estimation_data = est_etl.full_estimation_data\n",
    "full_estimation_data_clean = est_etl.full_estimation_data_clean\n",
    "print('Estimation rows:', len(full_estimation_data))\n"
   ]
  },
  {
   "cell_type": "code",
   "execution_count": null,
   "id": "41763709",
   "metadata": {},
   "outputs": [],
   "source": [
    "import_module('RL_Maggie.python.07_estimation_analysis')\n"
   ]
  },
  {
   "cell_type": "markdown",
   "id": "2aee7cf5",
   "metadata": {},
   "source": [
    "## Questionnaire Analysis"
   ]
  },
  {
   "cell_type": "code",
   "execution_count": null,
   "id": "514bd262",
   "metadata": {},
   "outputs": [],
   "source": [
    "try:\n",
    "    import_module('RL_Maggie.python.08_questionnaire_analysis')\n",
    "except FileNotFoundError as e:\n",
    "    print('Questionnaire file missing:', e)\n"
   ]
  }
 ],
 "metadata": {},
 "nbformat": 4,
 "nbformat_minor": 5
}
