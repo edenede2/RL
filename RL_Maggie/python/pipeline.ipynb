{
 "cells": [
  {
   "cell_type": "markdown",
   "id": "2cbea3f7",
   "metadata": {},
   "source": [
    "# RL Pipeline Notebook\n",
    "This notebook runs the analysis pipeline using the translated Python modules."
   ]
  },
  {
   "cell_type": "code",
   "execution_count": 20,
   "id": "bb1690fe",
   "metadata": {},
   "outputs": [
    {
     "name": "stdout",
     "output_type": "stream",
     "text": [
      "LOCAL_DATA_DIR: /Users/edeneldar/Documents/RL/RL_Maggie/Data\n",
      "STRESS_DATA_DIR: /Users/edeneldar/Documents/RL/RL_Maggie/data_healthy_Noa\n"
     ]
    }
   ],
   "source": [
    "from importlib import import_module\n",
    "setup = import_module('00_setup')\n",
    "print('LOCAL_DATA_DIR:', setup.LOCAL_DATA_DIR)\n",
    "print('STRESS_DATA_DIR:', setup.STRESS_DATA_DIR)\n"
   ]
  },
  {
   "cell_type": "code",
   "execution_count": 21,
   "id": "a361f574",
   "metadata": {},
   "outputs": [],
   "source": [
    "# Optional: copy raw files from shared drive if available\n",
    "# copy_mod = import_module('RL_Maggie.python.01_copy_raw_files')\n",
    "# copy_mod.copy_files_from_rl(setup.RAW_SHARED_DIR, setup.LOCAL_DATA_DIR)\n"
   ]
  },
  {
   "cell_type": "code",
   "execution_count": null,
   "id": "c1e1ea90",
   "metadata": {},
   "outputs": [],
   "source": []
  },
  {
   "cell_type": "markdown",
   "id": "68752c34",
   "metadata": {},
   "source": [
    "## Trial-Level Data"
   ]
  },
  {
   "cell_type": "code",
   "execution_count": 22,
   "id": "6a95ddc6",
   "metadata": {},
   "outputs": [
    {
     "name": "stdout",
     "output_type": "stream",
     "text": [
      "Empty file: /Users/edeneldar/Documents/RL/RL_Maggie/Data/sub_901_Reversal_2024-02-19_16h00.26.975.csv\n",
      "Fibro participants: 31 healthy, 161 fibro\n",
      "Stress participants: 56 total\n",
      "Non-learners: 37 fibro/healthy, 46 stress\n",
      "Fibro participants: 31 healthy, 161 fibro\n",
      "Stress participants: 56 total\n",
      "Non-learners: 37 fibro/healthy, 46 stress\n"
     ]
    }
   ],
   "source": [
    "# Import modules for trial data processing\n",
    "fibro_mod = import_module('02_trial_etl_fibro')\n",
    "stress_mod = import_module('03_trial_etl_stress')\n",
    "\n",
    "# Get trial data for both groups\n",
    "res_fibro = fibro_mod.get_trial_data_healthy_fibro(setup.LOCAL_DATA_DIR)\n",
    "res_stress = stress_mod.get_trial_data_healthy_stress()\n",
    "\n",
    "# Print some basic information about the results\n",
    "print(f\"Fibro participants: {len(res_fibro['healthy_participants'])} healthy, {len(res_fibro['fibro_participants'])} fibro\")\n",
    "print(f\"Stress participants: {len(res_stress['participants_with_7_blocks'])} total\")\n",
    "print(f\"Non-learners: {len(res_fibro['non_learners'])} fibro/healthy, {len(res_stress['non_learners'])} stress\")\n"
   ]
  },
  {
   "cell_type": "code",
   "execution_count": 23,
   "id": "82965bd3",
   "metadata": {},
   "outputs": [
    {
     "name": "stdout",
     "output_type": "stream",
     "text": [
      "Trial rows: 11373\n"
     ]
    }
   ],
   "source": [
    "merge_mod = import_module('04_trial_merge_clean')\n",
    "full_trial_data = merge_mod.full_trial_data\n",
    "full_trial_data_learners = merge_mod.full_trial_data_learners\n",
    "all_non_learners = merge_mod.all_non_learners\n",
    "print('Trial rows:', len(full_trial_data))\n"
   ]
  },
  {
   "cell_type": "code",
   "execution_count": 26,
   "id": "42c174f6",
   "metadata": {},
   "outputs": [
    {
     "name": "stdout",
     "output_type": "stream",
     "text": [
      "\n",
      "Analysis completed successfully\n"
     ]
    }
   ],
   "source": [
    "# Load and run trial analysis\n",
    "try:\n",
    "    analysis_mod = import_module('05_trial_analysis')\n",
    "    print(\"\\nAnalysis completed successfully\")\n",
    "except Exception as e:\n",
    "    print(f\"\\nWarning: Analysis encountered an issue: {e}\")\n",
    "    print(\"You may need to check the balance of your data or modify the analysis approach.\")\n"
   ]
  },
  {
   "cell_type": "markdown",
   "id": "46e27b15",
   "metadata": {},
   "source": [
    "## Estimation-Level Data"
   ]
  },
  {
   "cell_type": "code",
   "execution_count": 27,
   "id": "12b2cbed",
   "metadata": {},
   "outputs": [
    {
     "name": "stdout",
     "output_type": "stream",
     "text": [
      "Estimation rows: 6587\n"
     ]
    }
   ],
   "source": [
    "# Import estimation ETL module with error handling\n",
    "try:\n",
    "    est_etl = import_module('06_estimation_etl')\n",
    "    # Access data if available\n",
    "    if hasattr(est_etl, 'full_estimation_data') and hasattr(est_etl, 'full_estimation_data_clean'):\n",
    "        full_estimation_data = est_etl.full_estimation_data\n",
    "        full_estimation_data_clean = est_etl.full_estimation_data_clean\n",
    "        print('Estimation rows:', len(full_estimation_data))\n",
    "    else:\n",
    "        print('Warning: Estimation data not available')\n",
    "except Exception as e:\n",
    "    print(f'Error loading estimation data: {e}')\n",
    "    print('Creating empty estimation dataframes to continue pipeline')\n",
    "    import pandas as pd\n",
    "    full_estimation_data = pd.DataFrame()\n",
    "    full_estimation_data_clean = pd.DataFrame()\n"
   ]
  },
  {
   "cell_type": "code",
   "execution_count": 28,
   "id": "41763709",
   "metadata": {},
   "outputs": [
    {
     "name": "stdout",
     "output_type": "stream",
     "text": [
      "Estimation analysis completed successfully\n"
     ]
    }
   ],
   "source": [
    "# Load estimation analysis with error handling\n",
    "try:\n",
    "    estimation_analysis_mod = import_module('07_estimation_analysis')\n",
    "    print('Estimation analysis completed successfully')\n",
    "except Exception as e:\n",
    "    print(f'Error in estimation analysis: {e}')\n",
    "    print('Try running the notebook again to verify if the fixes for estimation_etl worked')\n"
   ]
  },
  {
   "cell_type": "markdown",
   "id": "2aee7cf5",
   "metadata": {},
   "source": [
    "## Questionnaire Analysis"
   ]
  },
  {
   "cell_type": "code",
   "execution_count": 29,
   "id": "514bd262",
   "metadata": {},
   "outputs": [
    {
     "name": "stdout",
     "output_type": "stream",
     "text": [
      "Questionnaire file missing: [Errno 2] No such file or directory: '/Users/edeneldar/Documents/RL/RL_Maggie/merged_data_220125 - Maggie.csv'\n"
     ]
    }
   ],
   "source": [
    "try:\n",
    "    import_module('08_questionnaire_analysis')\n",
    "except FileNotFoundError as e:\n",
    "    print('Questionnaire file missing:', e)\n"
   ]
  },
  {
   "cell_type": "markdown",
   "id": "3f0da705",
   "metadata": {},
   "source": [
    "## Note on Fixed Issues\n",
    "\n",
    "The code was fixed to address the following issues:\n",
    "\n",
    "1. Fixed indentation errors in `03_trial_etl_stress.py`\n",
    "2. Added proper import for `STRESS_DATA_DIR` from the setup module\n",
    "3. Fixed the code that identifies participants with 7 blocks in both stress and fibro modules\n",
    "4. Modified the ANOVA analysis in `05_trial_analysis.py` to handle unbalanced data:\n",
    "   - Added diagnostics to check data balance\n",
    "   - Implemented a fallback to standard ANOVA if repeated measures ANOVA fails\n",
    "   - Added better error handling and reporting\n",
    "5. Enhanced error handling in `06_estimation_etl.py` to handle missing columns:\n",
    "   - Added robust error handling for missing 'high_prob_image_file' and other required columns\n",
    "   - Added detailed error messages to identify problematic files\n",
    "   - Modified the notebook to continue pipeline execution even if estimation data processing fails\n",
    "6. Fixed the boolean column access in `07_estimation_analysis.py`:\n",
    "   - Changed direct boolean column access to string-based column access\n",
    "   - Added proper error handling for missing data\n",
    "   - Added checks to ensure sufficient data for ANOVA analysis\n",
    "\n",
    "These changes improve the robustness of the pipeline by preventing errors related to participant indexing, indentation, unbalanced data in statistical analyses, missing columns in input files, and unsafe boolean column access."
   ]
  }
 ],
 "metadata": {
  "kernelspec": {
   "display_name": "new_base",
   "language": "python",
   "name": "python3"
  },
  "language_info": {
   "codemirror_mode": {
    "name": "ipython",
    "version": 3
   },
   "file_extension": ".py",
   "mimetype": "text/x-python",
   "name": "python",
   "nbconvert_exporter": "python",
   "pygments_lexer": "ipython3",
   "version": "3.11.9"
  }
 },
 "nbformat": 4,
 "nbformat_minor": 5
}
